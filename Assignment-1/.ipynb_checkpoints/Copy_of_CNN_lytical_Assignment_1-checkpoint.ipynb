{
 "cells": [
  {
   "cell_type": "markdown",
   "metadata": {
    "id": "RksWtNuHg9Rb"
   },
   "source": [
    "# Neural Quest Assignment-1\n",
    "*  In this assignment, we will build a classifier for MNIST from scratch using just [NumPy](https://numpy.org/)\n",
    "\n",
    "*  [MNIST](http://yann.lecun.com/exdb/mnist/) dataset contains images of handwritten digits of size 28x28\n",
    "\n",
    "*  The dataset that you are expected to use for training can be found [here](https://drive.google.com/file/d/1DF-OWSP803x34FrvaJ4XeDm_QZUevu32/view?usp=sharing)\n",
    "\n",
    "*   Our model will have 1 hidden layer, like the one below (not our recommendation to use 256 in the hidden layer though, try various values out)\n",
    "\n",
    "**Feel free to redefine any function signatures below, just make sure the final cell remains the same.**\n",
    "\n",
    "<center>\n",
    "<img src=\"https://user-images.githubusercontent.com/81357954/166119893-4ca347b8-b1a4-40b8-9e0a-2e92b5f164ae.png\">\n",
    "</center>"
   ]
  },
  {
   "cell_type": "markdown",
   "metadata": {
    "id": "UyOAG55siwdI"
   },
   "source": [
    "## Import libraries here\n",
    "NumPy, Matplotlib, ...\n",
    "\n",
    "Also remember to initialize the seed for reproducibility of results"
   ]
  },
  {
   "cell_type": "code",
   "execution_count": 29,
   "metadata": {
    "id": "7iVUsRLxjAb9"
   },
   "outputs": [],
   "source": [
    "import numpy as np\n",
    "import matplotlib.pyplot as plt\n",
    "import pandas as pd\n",
    "import requests\n",
    "import pickle\n",
    "from sklearn.model_selection import train_test_split\n",
    "from sklearn.preprocessing import MinMaxScaler\n",
    "\n",
    "np.random.seed(69)"
   ]
  },
  {
   "cell_type": "markdown",
   "metadata": {
    "id": "HaLDC4wN0eQs"
   },
   "source": [
    "## Load *Dataset*\n",
    "Load data from the given pickle file"
   ]
  },
  {
   "cell_type": "code",
   "execution_count": 30,
   "metadata": {
    "id": "6qOjNSmx0iUn"
   },
   "outputs": [],
   "source": [
    "# Download the dataset from the provided link\n",
    "url = 'https://drive.google.com/uc?id=1DF-OWSP803x34FrvaJ4XeDm_QZUevu32'\n",
    "response = requests.get(url)\n",
    "content = response.content\n",
    "\n",
    "# Load the dataset\n",
    "dataset = pickle.loads(content)\n",
    "#print(dataset.keys())\n",
    "\n",
    "# Extract the features (X) and target (y) from the loaded data\n",
    "X = dataset['X']\n",
    "y = dataset['y']\n",
    "\n",
    "# Normalize the features\n",
    "scaler = MinMaxScaler()\n",
    "X_normalized = scaler.fit_transform(X)\n",
    "\n",
    "\n",
    "# Split the data into training and testing sets\n",
    "X_train, X_test, y_train, y_test = train_test_split(X_normalized, y, test_size=0.9, random_state=69)"
   ]
  },
  {
   "cell_type": "code",
   "execution_count": 31,
   "metadata": {},
   "outputs": [
    {
     "name": "stdout",
     "output_type": "stream",
     "text": [
      "4704000\n"
     ]
    }
   ],
   "source": [
    "print(np.size(X_train))"
   ]
  },
  {
   "cell_type": "code",
   "execution_count": 32,
   "metadata": {
    "colab": {
     "base_uri": "https://localhost:8080/",
     "height": 777
    },
    "id": "id77Oqc90kTf",
    "outputId": "c1c5ae50-2ed0-4f8b-8743-48f63fb39c7c"
   },
   "outputs": [
    {
     "data": {
      "image/png": "[encoded data removed]",
      "text/plain": [
       "<Figure size 800x800 with 16 Axes>"
      ]
     },
     "metadata": {},
     "output_type": "display_data"
    }
   ],
   "source": [
    "# Define the grid size\n",
    "grid_size = (4, 4)\n",
    "\n",
    "# Choose random indices for the images\n",
    "random_indices = np.random.choice(len(X_train), size=grid_size[0]*grid_size[1], replace=False)\n",
    "\n",
    "# Create the subplots\n",
    "fig, axes = plt.subplots(grid_size[0], grid_size[1], figsize=(8, 8))\n",
    "fig.tight_layout()\n",
    "\n",
    "# Iterate over the subplots and display the images with labels\n",
    "for i, ax in enumerate(axes.flat):\n",
    "    image = X_train[random_indices[i]].reshape(28, 28)\n",
    "    label = y_train[random_indices[i]]\n",
    "    ax.imshow(image, cmap='gray')\n",
    "    ax.axis('off')\n",
    "    ax.set_title(f\"Label: {label}\")\n",
    "\n",
    "# Display the grid of images\n",
    "plt.show()\n"
   ]
  },
  {
   "cell_type": "markdown",
   "metadata": {
    "id": "VFYnsPVLmsiW"
   },
   "source": [
    "## Building up parts of our classifier"
   ]
  },
  {
   "cell_type": "markdown",
   "metadata": {
    "id": "wAsGtgxUpGh2"
   },
   "source": [
    "**Activation functions**"
   ]
  },
  {
   "cell_type": "code",
   "execution_count": 33,
   "metadata": {
    "id": "6Di5Ck47msCQ"
   },
   "outputs": [],
   "source": [
    "def relu(z):\n",
    "    \"\"\"\n",
    "    Arguments:\n",
    "    z -- A scalar or numpy array.\n",
    "    Return:\n",
    "    relu func applied to each element of z\n",
    "    \"\"\"\n",
    "    return np.maximum(0, z)\n",
    "\n",
    "def softmax(z):\n",
    "    \"\"\"\n",
    "    returns computed probabilitites for each element in batch separately\n",
    "    input: (N, 10)\n",
    "    output: (N, 10)\n",
    "    \"\"\"\n",
    "    exps = np.exp(z - np.max(z))\n",
    "    return exps / np.sum(exps, axis=1, keepdims=True)"
   ]
  },
  {
   "cell_type": "markdown",
   "metadata": {
    "id": "G-q5HJHIocdn"
   },
   "source": [
    "**Notes about the Neural Network** \n",
    "*   Input size is (784,) because 28x28 = 784\n",
    "*   Output size will be 10, each element represeting probability of the image representing that digit\n",
    "*   Size of the hidden layer is a hyperparameter\n",
    "\n"
   ]
  },
  {
   "cell_type": "markdown",
   "metadata": {
    "id": "azTAuS5spFcz"
   },
   "source": [
    "**Initialize the layers weights**\n",
    "\n",
    "Generally, we follow the convention that weights are drawn from a standard normal distribution, while the bias vectors are initialized to zero. But you can try everything out :)"
   ]
  },
  {
   "cell_type": "code",
   "execution_count": 34,
   "metadata": {
    "id": "38E3_hVPocMm"
   },
   "outputs": [],
   "source": [
    "def init_params(input_size, hidden_size, output_size):\n",
    "    \"\"\"\n",
    "    ideally it should take the size of all the layers and \n",
    "    should return the initialized weights.\n",
    "    \"\"\"\n",
    "    # Initialize weights\n",
    "    W1 = np.random.randn(hidden_size, input_size) * 0.01\n",
    "    W2 = np.random.randn(output_size, hidden_size) * 0.01\n",
    "    \n",
    "    # Initialize biases\n",
    "    b1 = np.zeros((hidden_size, 1))\n",
    "    b2 = np.zeros((output_size, 1))\n",
    "    \n",
    "    # Create the parameters dictionary\n",
    "    parameters = {\n",
    "        'W1': W1,\n",
    "        'b1': b1,\n",
    "        'W2': W2,\n",
    "        'b2': b2\n",
    "    }\n",
    "    \n",
    "    return parameters"
   ]
  },
  {
   "cell_type": "markdown",
   "metadata": {
    "id": "UlX8zy-7pv2n"
   },
   "source": [
    "**Forward Propagation**"
   ]
  },
  {
   "cell_type": "code",
   "execution_count": 35,
   "metadata": {
    "id": "TJ8lgrqjjASz"
   },
   "outputs": [],
   "source": [
    "def forward_prop(X, weights):\n",
    "    \"\"\"\n",
    "    X: input data\n",
    "    returns: logits, output of each layer z1,z2,a1,a2\n",
    "    \"\"\"\n",
    "    # Retrieve weights from the dictionary\n",
    "    W1 = weights['W1']\n",
    "    b1 = weights['b1']\n",
    "    W2 = weights['W2']\n",
    "    b2 = weights['b2']\n",
    "    \n",
    "    # Perform forward propagation\n",
    "    Z1 = np.dot(W1, X) + b1\n",
    "    A1 = relu(Z1)\n",
    "    Z2 = np.dot(W2, A1) + b2\n",
    "    A2 = softmax(Z2)\n",
    "    \n",
    "    return Z1, A1, Z2, A2\n"
   ]
  },
  {
   "cell_type": "markdown",
   "metadata": {
    "id": "asZmbRVvuy5x"
   },
   "source": [
    "**Backward Propagation**\n",
    "\n",
    "\n",
    "You may use stochastic gradient descent or batch gradient descent here. Feel free to use any loss function."
   ]
  },
  {
   "cell_type": "code",
   "execution_count": 36,
   "metadata": {
    "id": "kAmrTAlimjUN"
   },
   "outputs": [],
   "source": [
    "def backward_prop(weights, X, y, Z1, A1, Z2, A2, lr):\n",
    "    \"\"\"\n",
    "    Performs backward propagation and updates the weights for the neural network.\n",
    "    \"\"\"\n",
    "    # Retrieve weights from the dictionary\n",
    "    W1 = weights['W1']\n",
    "    b1 = weights['b1']\n",
    "    W2 = weights['W2']\n",
    "    b2 = weights['b2']\n",
    "    \n",
    "    # Compute the gradients\n",
    "    m = X.shape[1]  # Number of training examples\n",
    "    dZ2 = A2 - y\n",
    "    dW2 = (lr/m) * np.dot(dZ2, A1.T)\n",
    "    db2 = (lr/m) * np.sum(dZ2, axis=1, keepdims=True)\n",
    "    dZ1 = np.dot(W2.T, dZ2) * (A1 > 0)\n",
    "    dW1 = (lr/m) * np.dot(dZ1, X.T)\n",
    "    db1 = (lr/m) * np.sum(dZ1, axis=1, keepdims=True)\n",
    "    \n",
    "    # Update the weights\n",
    "    updated_weights = {\n",
    "        'W1': W1 - dW1,\n",
    "        'b1': b1 - db1,\n",
    "        'W2': W2 - dW2,\n",
    "        'b2': b2 - db2\n",
    "    }\n",
    "    \n",
    "    return updated_weights\n"
   ]
  },
  {
   "cell_type": "code",
   "execution_count": 37,
   "metadata": {
    "id": "cVDz0IGnvzpe"
   },
   "outputs": [],
   "source": [
    "def cost_func(weights,y,params):\n",
    "    \"\"\"\n",
    "    calculate loss to check whether it is decreasing at each epoch or not\n",
    "    one can return this in backward propagation as well\n",
    "    \"\"\"\n",
    "    # Retrieve weights from the dictionary\n",
    "    W1 = weights['W1']\n",
    "    b1 = weights['b1']\n",
    "    W2 = weights['W2']\n",
    "    b2 = weights['b2']\n",
    "    \n",
    "    # Perform forward propagation\n",
    "    _, _, _, A2 = forward_prop(params['X'], weights)\n",
    "    \n",
    "    # Compute the loss\n",
    "    m = params['X'].shape[1]  # Number of training examples\n",
    "    loss = (-(np.log(A2[np.arange(A2.shape[0]), y]).sum()))/m\n",
    "    \n",
    "    return loss"
   ]
  },
  {
   "cell_type": "markdown",
   "metadata": {
    "id": "GUlhpcs9ylOX"
   },
   "source": [
    "\n",
    "## Integrate everything"
   ]
  },
  {
   "cell_type": "code",
   "execution_count": 38,
   "metadata": {
    "id": "SDGdT7PVmjRU"
   },
   "outputs": [],
   "source": [
    "def train(X, y, hidden_nodes, epochs=1000, lr=1e-5):\n",
    "    \"\"\"\n",
    "    hidden_nodes: no. of nodes in hidden layer\n",
    "\n",
    "    should return the updated optimize weights.\n",
    "    \"\"\"\n",
    "    \n",
    "    input_size = X.shape[0]  # Size of the input layer\n",
    "    output_size = y.shape[0]  # Size of the output layer\n",
    "    \n",
    "    \n",
    "    # initialize weights.\n",
    "    \n",
    "    weights = init_params(input_size, hidden_nodes, output_size)\n",
    "\n",
    "    for i in range(epochs):\n",
    "        # forward propagation\n",
    "        \n",
    "        Z1, A1, Z2, A2 = forward_prop(X, weights)\n",
    "\n",
    "        # print cost at every 100 or so iterations\n",
    "        \n",
    "        if i % 100 == 0:\n",
    "            cost = cost_func(weights, y, {'X': X})\n",
    "            print(f\"Cost after {i} epochs: {cost}\")\n",
    "            \n",
    "        # backward propagation\n",
    "        \n",
    "        weight = backward_prop(weights, X, y, Z1, A1, Z2, A2, lr)\n",
    "    \n",
    "    return weight"
   ]
  },
  {
   "cell_type": "code",
   "execution_count": 39,
   "metadata": {
    "id": "9XBinWpPmjOS"
   },
   "outputs": [],
   "source": [
    "def predict(X, updated_weights):\n",
    "    \"\"\"\n",
    "    returns the prediction in [0,9] for each element in X\n",
    "    \"\"\"\n",
    "    \n",
    "    # Perform forward propagation\n",
    "    _, _, Z2, A2 = forward_prop(X, updated_weights)\n",
    "    \n",
    "    # Get the index of the maximum probability for each example\n",
    "    predictions = np.argmax(A2, axis=0)\n",
    "    \n",
    "    return predictions"
   ]
  },
  {
   "cell_type": "code",
   "execution_count": 40,
   "metadata": {
    "id": "CtKSZWw71wc4"
   },
   "outputs": [],
   "source": [
    "def accuracy(predictions, y):\n",
    "    \"\"\"\n",
    "    prints % accuracy\n",
    "    \"\"\"\n",
    "    \n",
    "    num_correct = np.sum(predictions == y)\n",
    "    accuracy = num_correct / y.shape[0] * 100\n",
    "    \n",
    "    # Print the accuracy\n",
    "    print(f\"Accuracy: {accuracy}%\")"
   ]
  },
  {
   "cell_type": "markdown",
   "metadata": {
    "id": "fGVOZ8yg0VrV"
   },
   "source": [
    "### Save as pickle"
   ]
  },
  {
   "cell_type": "code",
   "execution_count": 41,
   "metadata": {
    "colab": {
     "base_uri": "https://localhost:8080/",
     "height": 17
    },
    "id": "_lvDVwmxmjKX",
    "outputId": "02467c3f-b20f-44b7-8e3d-43e308028d17"
   },
   "outputs": [
    {
     "ename": "SyntaxError",
     "evalue": "invalid syntax (2007299608.py, line 10)",
     "output_type": "error",
     "traceback": [
      "\u001b[0;36m  Cell \u001b[0;32mIn[41], line 10\u001b[0;36m\u001b[0m\n\u001b[0;31m    'layer_0_wt': pass, # layer 0 weight (784, z)\u001b[0m\n\u001b[0m                  ^\u001b[0m\n\u001b[0;31mSyntaxError\u001b[0m\u001b[0;31m:\u001b[0m invalid syntax\n"
     ]
    }
   ],
   "source": [
    "import pickle\n",
    "import random\n",
    "from google.colab import files\n",
    "\n",
    "roll_num = \"22B1027\" # enter ldap\n",
    "hidden_dim = 69 # replace with your own hidden dimension\n",
    "\n",
    "model_dict = {\n",
    "    'z': hidden_dim, # hidden dimension of your model\n",
    "    'layer_0_wt': pass, # layer 0 weight (784, z)\n",
    "    'layer_0_bias': pass, # layer 0 bias (z, 1)\n",
    "    'layer_1_wt': pass, # layer 1 weight (z, 10)\n",
    "    'layer_1_bias': pass # layer 1 bias (10, 1)\n",
    "}\n",
    "\n",
    "assert model_dict['layer_0_wt'].shape == (784, hidden_dim)\n",
    "assert model_dict['layer_0_bias'].shape == (hidden_dim, 1)\n",
    "assert model_dict['layer_1_wt'].shape == (hidden_dim, 10)\n",
    "assert model_dict['layer_1_bias'].shape == (10, 1)\n",
    "\n",
    "with open(f'model_{roll_num}.pkl', 'wb') as f:\n",
    "    pickle.dump(model_dict, f)\n",
    "    files.download(f'model_{roll_num}.pkl') # download the file from the Colab session for submission"
   ]
  },
  {
   "cell_type": "code",
   "execution_count": null,
   "metadata": {},
   "outputs": [
    {
     "name": "stdout",
     "output_type": "stream",
     "text": [
      "Cost after 0 epochs: 306025.3470094053\n",
      "Cost after 100 epochs: 306025.3470094053\n",
      "Cost after 200 epochs: 306025.3470094053\n",
      "Cost after 300 epochs: 306025.3470094053\n",
      "Cost after 400 epochs: 306025.3470094053\n",
      "Cost after 500 epochs: 306025.3470094053\n",
      "Cost after 600 epochs: 306025.3470094053\n"
     ]
    }
   ],
   "source": [
    "train(X_train, y_train, 69)"
   ]
  }
 ],
 "metadata": {
  "colab": {
   "provenance": []
  },
  "kernelspec": {
   "display_name": "Python 3 (ipykernel)",
   "language": "python",
   "name": "python3"
  },
  "language_info": {
   "codemirror_mode": {
    "name": "ipython",
    "version": 3
   },
   "file_extension": ".py",
   "mimetype": "text/x-python",
   "name": "python",
   "nbconvert_exporter": "python",
   "pygments_lexer": "ipython3",
   "version": "3.10.9"
  }
 },
 "nbformat": 4,
 "nbformat_minor": 1
}
